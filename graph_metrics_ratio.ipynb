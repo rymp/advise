{
 "cells": [
  {
   "cell_type": "markdown",
   "metadata": {},
   "source": [
    "# Graph metrics ratio for undowloaded channels"
   ]
  },
  {
   "cell_type": "code",
   "execution_count": 1,
   "metadata": {},
   "outputs": [],
   "source": [
    "import numpy as np\n",
    "import pandas as pd\n",
    "import matplotlib.pyplot as plt\n",
    "import seaborn as sns\n",
    "import networkx as nx\n",
    "from sknetwork.data import convert_edge_list\n",
    "from sknetwork.clustering import PropagationClustering\n",
    "from langdetect import detect, detect_langs, lang_detect_exception\n",
    "from sklearn.preprocessing import StandardScaler\n",
    "\n",
    "\n",
    "import warnings\n",
    "warnings.filterwarnings('ignore')"
   ]
  },
  {
   "cell_type": "markdown",
   "metadata": {},
   "source": [
    "## 1. Data extraction"
   ]
  },
  {
   "cell_type": "code",
   "execution_count": 2,
   "metadata": {},
   "outputs": [],
   "source": [
    "# I uploaded data into tsv"
   ]
  },
  {
   "cell_type": "code",
   "execution_count": 3,
   "metadata": {},
   "outputs": [],
   "source": [
    "channels = pd.read_csv('channels.tsv', sep='\\t')"
   ]
  },
  {
   "cell_type": "code",
   "execution_count": 4,
   "metadata": {},
   "outputs": [
    {
     "data": {
      "text/html": [
       "<div>\n",
       "<style scoped>\n",
       "    .dataframe tbody tr th:only-of-type {\n",
       "        vertical-align: middle;\n",
       "    }\n",
       "\n",
       "    .dataframe tbody tr th {\n",
       "        vertical-align: top;\n",
       "    }\n",
       "\n",
       "    .dataframe thead th {\n",
       "        text-align: right;\n",
       "    }\n",
       "</style>\n",
       "<table border=\"1\" class=\"dataframe\">\n",
       "  <thead>\n",
       "    <tr style=\"text-align: right;\">\n",
       "      <th></th>\n",
       "      <th>id</th>\n",
       "      <th>title</th>\n",
       "    </tr>\n",
       "  </thead>\n",
       "  <tbody>\n",
       "    <tr>\n",
       "      <th>0</th>\n",
       "      <td>1082084045</td>\n",
       "      <td>Караульный</td>\n",
       "    </tr>\n",
       "    <tr>\n",
       "      <th>1</th>\n",
       "      <td>1289588056</td>\n",
       "      <td>Мастер пера</td>\n",
       "    </tr>\n",
       "    <tr>\n",
       "      <th>2</th>\n",
       "      <td>1428407219</td>\n",
       "      <td>Про_чтение</td>\n",
       "    </tr>\n",
       "    <tr>\n",
       "      <th>3</th>\n",
       "      <td>1310493808</td>\n",
       "      <td>Темы. Главное (ГлавМедиа)</td>\n",
       "    </tr>\n",
       "    <tr>\n",
       "      <th>4</th>\n",
       "      <td>1185353204</td>\n",
       "      <td>Экономика Беларуси</td>\n",
       "    </tr>\n",
       "  </tbody>\n",
       "</table>\n",
       "</div>"
      ],
      "text/plain": [
       "           id                      title\n",
       "0  1082084045                 Караульный\n",
       "1  1289588056                Мастер пера\n",
       "2  1428407219                 Про_чтение\n",
       "3  1310493808  Темы. Главное (ГлавМедиа)\n",
       "4  1185353204         Экономика Беларуси"
      ]
     },
     "execution_count": 4,
     "metadata": {},
     "output_type": "execute_result"
    }
   ],
   "source": [
    "channels.head()"
   ]
  },
  {
   "cell_type": "code",
   "execution_count": 5,
   "metadata": {},
   "outputs": [],
   "source": [
    "edges = pd.read_csv('2021_05_23_edges_all.tsv', sep='\\t')"
   ]
  },
  {
   "cell_type": "code",
   "execution_count": 6,
   "metadata": {},
   "outputs": [
    {
     "data": {
      "text/html": [
       "<div>\n",
       "<style scoped>\n",
       "    .dataframe tbody tr th:only-of-type {\n",
       "        vertical-align: middle;\n",
       "    }\n",
       "\n",
       "    .dataframe tbody tr th {\n",
       "        vertical-align: top;\n",
       "    }\n",
       "\n",
       "    .dataframe thead th {\n",
       "        text-align: right;\n",
       "    }\n",
       "</style>\n",
       "<table border=\"1\" class=\"dataframe\">\n",
       "  <thead>\n",
       "    <tr style=\"text-align: right;\">\n",
       "      <th></th>\n",
       "      <th>1000006831</th>\n",
       "      <th>1001650098</th>\n",
       "      <th>1</th>\n",
       "    </tr>\n",
       "  </thead>\n",
       "  <tbody>\n",
       "    <tr>\n",
       "      <th>0</th>\n",
       "      <td>1000006831</td>\n",
       "      <td>1003366652</td>\n",
       "      <td>2</td>\n",
       "    </tr>\n",
       "    <tr>\n",
       "      <th>1</th>\n",
       "      <td>1000006831</td>\n",
       "      <td>1003381040</td>\n",
       "      <td>1</td>\n",
       "    </tr>\n",
       "    <tr>\n",
       "      <th>2</th>\n",
       "      <td>1000006831</td>\n",
       "      <td>1003448364</td>\n",
       "      <td>1</td>\n",
       "    </tr>\n",
       "    <tr>\n",
       "      <th>3</th>\n",
       "      <td>1000006831</td>\n",
       "      <td>1003705962</td>\n",
       "      <td>1</td>\n",
       "    </tr>\n",
       "    <tr>\n",
       "      <th>4</th>\n",
       "      <td>1000006831</td>\n",
       "      <td>1004185333</td>\n",
       "      <td>1</td>\n",
       "    </tr>\n",
       "  </tbody>\n",
       "</table>\n",
       "</div>"
      ],
      "text/plain": [
       "   1000006831  1001650098  1\n",
       "0  1000006831  1003366652  2\n",
       "1  1000006831  1003381040  1\n",
       "2  1000006831  1003448364  1\n",
       "3  1000006831  1003705962  1\n",
       "4  1000006831  1004185333  1"
      ]
     },
     "execution_count": 6,
     "metadata": {},
     "output_type": "execute_result"
    }
   ],
   "source": [
    "edges.head()"
   ]
  },
  {
   "cell_type": "markdown",
   "metadata": {},
   "source": [
    "## 2. Graph metrics"
   ]
  },
  {
   "cell_type": "markdown",
   "metadata": {},
   "source": [
    "### 2.1 Degree and weighted degree"
   ]
  },
  {
   "cell_type": "code",
   "execution_count": 7,
   "metadata": {},
   "outputs": [],
   "source": [
    "edge_list = list(edges.itertuples(index=False, name=None))"
   ]
  },
  {
   "cell_type": "code",
   "execution_count": 8,
   "metadata": {},
   "outputs": [],
   "source": [
    "graph = nx.DiGraph()"
   ]
  },
  {
   "cell_type": "code",
   "execution_count": 9,
   "metadata": {},
   "outputs": [],
   "source": [
    "graph.add_weighted_edges_from(edge_list)"
   ]
  },
  {
   "cell_type": "markdown",
   "metadata": {},
   "source": [
    "also exist another way to read data in graph"
   ]
  },
  {
   "cell_type": "code",
   "execution_count": 10,
   "metadata": {},
   "outputs": [],
   "source": [
    "# graph = nx.read_edgelist('2021_05_23_edges_all.tsv', create_using=nx.DiGraph, nodetype=int, data=((\"weight\", int),))"
   ]
  },
  {
   "cell_type": "code",
   "execution_count": 11,
   "metadata": {},
   "outputs": [],
   "source": [
    "g_metrics = (pd.DataFrame(list(graph.degree), columns=['id', 'degree'])\n",
    " .merge(pd.DataFrame(list(graph.degree(weight='weight')), columns=['id', 'weight_degree']), on='id')\n",
    ")"
   ]
  },
  {
   "cell_type": "code",
   "execution_count": 12,
   "metadata": {},
   "outputs": [
    {
     "data": {
      "text/plain": [
       "(226229, 3)"
      ]
     },
     "execution_count": 12,
     "metadata": {},
     "output_type": "execute_result"
    }
   ],
   "source": [
    "g_metrics.shape"
   ]
  },
  {
   "cell_type": "markdown",
   "metadata": {},
   "source": [
    "### 2.2 Clusterisation"
   ]
  },
  {
   "cell_type": "code",
   "execution_count": 13,
   "metadata": {},
   "outputs": [],
   "source": [
    "graph = convert_edge_list(edge_list, directed=True)"
   ]
  },
  {
   "cell_type": "code",
   "execution_count": 14,
   "metadata": {},
   "outputs": [],
   "source": [
    "adjacency = graph.adjacency"
   ]
  },
  {
   "cell_type": "code",
   "execution_count": 15,
   "metadata": {},
   "outputs": [],
   "source": [
    "propagation = PropagationClustering()\n",
    "labels = propagation.fit_transform(adjacency)"
   ]
  },
  {
   "cell_type": "code",
   "execution_count": 16,
   "metadata": {},
   "outputs": [],
   "source": [
    "g_metrics = g_metrics.merge(pd.DataFrame({'id': graph.names, 'cluster': labels}), on='id')"
   ]
  },
  {
   "cell_type": "code",
   "execution_count": 17,
   "metadata": {},
   "outputs": [
    {
     "data": {
      "text/html": [
       "<div>\n",
       "<style scoped>\n",
       "    .dataframe tbody tr th:only-of-type {\n",
       "        vertical-align: middle;\n",
       "    }\n",
       "\n",
       "    .dataframe tbody tr th {\n",
       "        vertical-align: top;\n",
       "    }\n",
       "\n",
       "    .dataframe thead th {\n",
       "        text-align: right;\n",
       "    }\n",
       "</style>\n",
       "<table border=\"1\" class=\"dataframe\">\n",
       "  <thead>\n",
       "    <tr style=\"text-align: right;\">\n",
       "      <th></th>\n",
       "      <th>id</th>\n",
       "      <th>degree</th>\n",
       "      <th>weight_degree</th>\n",
       "      <th>cluster</th>\n",
       "    </tr>\n",
       "  </thead>\n",
       "  <tbody>\n",
       "    <tr>\n",
       "      <th>0</th>\n",
       "      <td>1000006831</td>\n",
       "      <td>88</td>\n",
       "      <td>488</td>\n",
       "      <td>7466</td>\n",
       "    </tr>\n",
       "    <tr>\n",
       "      <th>1</th>\n",
       "      <td>1003366652</td>\n",
       "      <td>11</td>\n",
       "      <td>39</td>\n",
       "      <td>3963</td>\n",
       "    </tr>\n",
       "    <tr>\n",
       "      <th>2</th>\n",
       "      <td>1003381040</td>\n",
       "      <td>1</td>\n",
       "      <td>1</td>\n",
       "      <td>3983</td>\n",
       "    </tr>\n",
       "    <tr>\n",
       "      <th>3</th>\n",
       "      <td>1003448364</td>\n",
       "      <td>18</td>\n",
       "      <td>76</td>\n",
       "      <td>40468</td>\n",
       "    </tr>\n",
       "    <tr>\n",
       "      <th>4</th>\n",
       "      <td>1003705962</td>\n",
       "      <td>125</td>\n",
       "      <td>550</td>\n",
       "      <td>4705</td>\n",
       "    </tr>\n",
       "  </tbody>\n",
       "</table>\n",
       "</div>"
      ],
      "text/plain": [
       "           id  degree  weight_degree  cluster\n",
       "0  1000006831      88            488     7466\n",
       "1  1003366652      11             39     3963\n",
       "2  1003381040       1              1     3983\n",
       "3  1003448364      18             76    40468\n",
       "4  1003705962     125            550     4705"
      ]
     },
     "execution_count": 17,
     "metadata": {},
     "output_type": "execute_result"
    }
   ],
   "source": [
    "g_metrics.head()"
   ]
  },
  {
   "cell_type": "markdown",
   "metadata": {},
   "source": [
    "## 3. Query rating computation and load"
   ]
  },
  {
   "cell_type": "code",
   "execution_count": 18,
   "metadata": {},
   "outputs": [],
   "source": [
    "df = g_metrics.merge(channels, on='id', how='left')"
   ]
  },
  {
   "cell_type": "code",
   "execution_count": 19,
   "metadata": {},
   "outputs": [
    {
     "data": {
      "text/html": [
       "<div>\n",
       "<style scoped>\n",
       "    .dataframe tbody tr th:only-of-type {\n",
       "        vertical-align: middle;\n",
       "    }\n",
       "\n",
       "    .dataframe tbody tr th {\n",
       "        vertical-align: top;\n",
       "    }\n",
       "\n",
       "    .dataframe thead th {\n",
       "        text-align: right;\n",
       "    }\n",
       "</style>\n",
       "<table border=\"1\" class=\"dataframe\">\n",
       "  <thead>\n",
       "    <tr style=\"text-align: right;\">\n",
       "      <th></th>\n",
       "      <th>id</th>\n",
       "      <th>degree</th>\n",
       "      <th>weight_degree</th>\n",
       "      <th>cluster</th>\n",
       "      <th>title</th>\n",
       "    </tr>\n",
       "  </thead>\n",
       "  <tbody>\n",
       "    <tr>\n",
       "      <th>0</th>\n",
       "      <td>1000006831</td>\n",
       "      <td>88</td>\n",
       "      <td>488</td>\n",
       "      <td>7466</td>\n",
       "      <td>روزنامه وقايع استان</td>\n",
       "    </tr>\n",
       "    <tr>\n",
       "      <th>1</th>\n",
       "      <td>1003366652</td>\n",
       "      <td>11</td>\n",
       "      <td>39</td>\n",
       "      <td>3963</td>\n",
       "      <td>NaN</td>\n",
       "    </tr>\n",
       "    <tr>\n",
       "      <th>2</th>\n",
       "      <td>1003381040</td>\n",
       "      <td>1</td>\n",
       "      <td>1</td>\n",
       "      <td>3983</td>\n",
       "      <td>NaN</td>\n",
       "    </tr>\n",
       "    <tr>\n",
       "      <th>3</th>\n",
       "      <td>1003448364</td>\n",
       "      <td>18</td>\n",
       "      <td>76</td>\n",
       "      <td>40468</td>\n",
       "      <td>موسسه خیریه حامی یار</td>\n",
       "    </tr>\n",
       "    <tr>\n",
       "      <th>4</th>\n",
       "      <td>1003705962</td>\n",
       "      <td>125</td>\n",
       "      <td>550</td>\n",
       "      <td>4705</td>\n",
       "      <td>EsteghlalPage</td>\n",
       "    </tr>\n",
       "  </tbody>\n",
       "</table>\n",
       "</div>"
      ],
      "text/plain": [
       "           id  degree  weight_degree  cluster                 title\n",
       "0  1000006831      88            488     7466   روزنامه وقايع استان\n",
       "1  1003366652      11             39     3963                   NaN\n",
       "2  1003381040       1              1     3983                   NaN\n",
       "3  1003448364      18             76    40468  موسسه خیریه حامی یار\n",
       "4  1003705962     125            550     4705         EsteghlalPage"
      ]
     },
     "execution_count": 19,
     "metadata": {},
     "output_type": "execute_result"
    }
   ],
   "source": [
    "df.head()"
   ]
  },
  {
   "cell_type": "code",
   "execution_count": 20,
   "metadata": {},
   "outputs": [],
   "source": [
    "df['title'].fillna('', inplace=True)"
   ]
  },
  {
   "cell_type": "code",
   "execution_count": 21,
   "metadata": {},
   "outputs": [],
   "source": [
    "df_nan_cnt = df[df['title']!=''].groupby('cluster')['title'].count().reset_index().set_axis(['cluster', 'undwl_cnt'], axis='columns')"
   ]
  },
  {
   "cell_type": "code",
   "execution_count": 22,
   "metadata": {},
   "outputs": [
    {
     "data": {
      "text/html": [
       "<div>\n",
       "<style scoped>\n",
       "    .dataframe tbody tr th:only-of-type {\n",
       "        vertical-align: middle;\n",
       "    }\n",
       "\n",
       "    .dataframe tbody tr th {\n",
       "        vertical-align: top;\n",
       "    }\n",
       "\n",
       "    .dataframe thead th {\n",
       "        text-align: right;\n",
       "    }\n",
       "</style>\n",
       "<table border=\"1\" class=\"dataframe\">\n",
       "  <thead>\n",
       "    <tr style=\"text-align: right;\">\n",
       "      <th></th>\n",
       "      <th>cluster</th>\n",
       "      <th>undwl_cnt</th>\n",
       "    </tr>\n",
       "  </thead>\n",
       "  <tbody>\n",
       "    <tr>\n",
       "      <th>0</th>\n",
       "      <td>4</td>\n",
       "      <td>1</td>\n",
       "    </tr>\n",
       "    <tr>\n",
       "      <th>1</th>\n",
       "      <td>23</td>\n",
       "      <td>1</td>\n",
       "    </tr>\n",
       "    <tr>\n",
       "      <th>2</th>\n",
       "      <td>99</td>\n",
       "      <td>1</td>\n",
       "    </tr>\n",
       "    <tr>\n",
       "      <th>3</th>\n",
       "      <td>165</td>\n",
       "      <td>1</td>\n",
       "    </tr>\n",
       "    <tr>\n",
       "      <th>4</th>\n",
       "      <td>181</td>\n",
       "      <td>1</td>\n",
       "    </tr>\n",
       "  </tbody>\n",
       "</table>\n",
       "</div>"
      ],
      "text/plain": [
       "   cluster  undwl_cnt\n",
       "0        4          1\n",
       "1       23          1\n",
       "2       99          1\n",
       "3      165          1\n",
       "4      181          1"
      ]
     },
     "execution_count": 22,
     "metadata": {},
     "output_type": "execute_result"
    }
   ],
   "source": [
    "df_nan_cnt.head()"
   ]
  },
  {
   "cell_type": "markdown",
   "metadata": {},
   "source": [
    "### 3.1 Groupping "
   ]
  },
  {
   "cell_type": "code",
   "execution_count": 23,
   "metadata": {},
   "outputs": [],
   "source": [
    "df_g = (df.groupby(['cluster'])\n",
    " .agg({'cluster': 'count', 'id': lambda x: x.tolist(), 'title': lambda x: x.tolist()})\n",
    " .set_axis(['cnt', 'id_list', 'title_list'], axis='columns')\n",
    " .reset_index()\n",
    ")"
   ]
  },
  {
   "cell_type": "code",
   "execution_count": 24,
   "metadata": {},
   "outputs": [
    {
     "data": {
      "text/html": [
       "<div>\n",
       "<style scoped>\n",
       "    .dataframe tbody tr th:only-of-type {\n",
       "        vertical-align: middle;\n",
       "    }\n",
       "\n",
       "    .dataframe tbody tr th {\n",
       "        vertical-align: top;\n",
       "    }\n",
       "\n",
       "    .dataframe thead th {\n",
       "        text-align: right;\n",
       "    }\n",
       "</style>\n",
       "<table border=\"1\" class=\"dataframe\">\n",
       "  <thead>\n",
       "    <tr style=\"text-align: right;\">\n",
       "      <th></th>\n",
       "      <th>cluster</th>\n",
       "      <th>cnt</th>\n",
       "      <th>id_list</th>\n",
       "      <th>title_list</th>\n",
       "    </tr>\n",
       "  </thead>\n",
       "  <tbody>\n",
       "    <tr>\n",
       "      <th>0</th>\n",
       "      <td>0</td>\n",
       "      <td>1</td>\n",
       "      <td>[1000000594]</td>\n",
       "      <td>[]</td>\n",
       "    </tr>\n",
       "    <tr>\n",
       "      <th>1</th>\n",
       "      <td>1</td>\n",
       "      <td>1</td>\n",
       "      <td>[1000000881]</td>\n",
       "      <td>[]</td>\n",
       "    </tr>\n",
       "    <tr>\n",
       "      <th>2</th>\n",
       "      <td>2</td>\n",
       "      <td>1</td>\n",
       "      <td>[1000000882]</td>\n",
       "      <td>[]</td>\n",
       "    </tr>\n",
       "    <tr>\n",
       "      <th>3</th>\n",
       "      <td>3</td>\n",
       "      <td>1</td>\n",
       "      <td>[1000002589]</td>\n",
       "      <td>[]</td>\n",
       "    </tr>\n",
       "    <tr>\n",
       "      <th>4</th>\n",
       "      <td>4</td>\n",
       "      <td>1</td>\n",
       "      <td>[1000002626]</td>\n",
       "      <td>[Hyperadio]</td>\n",
       "    </tr>\n",
       "  </tbody>\n",
       "</table>\n",
       "</div>"
      ],
      "text/plain": [
       "   cluster  cnt       id_list   title_list\n",
       "0        0    1  [1000000594]           []\n",
       "1        1    1  [1000000881]           []\n",
       "2        2    1  [1000000882]           []\n",
       "3        3    1  [1000002589]           []\n",
       "4        4    1  [1000002626]  [Hyperadio]"
      ]
     },
     "execution_count": 24,
     "metadata": {},
     "output_type": "execute_result"
    }
   ],
   "source": [
    "df_g.head()"
   ]
  },
  {
   "cell_type": "code",
   "execution_count": 25,
   "metadata": {},
   "outputs": [
    {
     "data": {
      "text/plain": [
       "(179148, 4)"
      ]
     },
     "execution_count": 25,
     "metadata": {},
     "output_type": "execute_result"
    }
   ],
   "source": [
    "df_g.shape"
   ]
  },
  {
   "cell_type": "code",
   "execution_count": 26,
   "metadata": {},
   "outputs": [],
   "source": [
    "df_g['title_uniq_cnt'] = df_g['title_list'].apply(lambda x: len(set(x)))\n",
    "df_g.sort_values(by='title_uniq_cnt', ascending=False, inplace=True)"
   ]
  },
  {
   "cell_type": "code",
   "execution_count": 27,
   "metadata": {},
   "outputs": [],
   "source": [
    "df_g = df_g[df_g['cnt']>2]"
   ]
  },
  {
   "cell_type": "code",
   "execution_count": 28,
   "metadata": {},
   "outputs": [],
   "source": [
    "df_g = df_g[df_g['title_uniq_cnt']>1]"
   ]
  },
  {
   "cell_type": "code",
   "execution_count": 29,
   "metadata": {},
   "outputs": [
    {
     "data": {
      "text/plain": [
       "(3576, 5)"
      ]
     },
     "execution_count": 29,
     "metadata": {},
     "output_type": "execute_result"
    }
   ],
   "source": [
    "df_g.shape"
   ]
  },
  {
   "cell_type": "markdown",
   "metadata": {},
   "source": [
    "### 3.2 Language detection"
   ]
  },
  {
   "cell_type": "code",
   "execution_count": 30,
   "metadata": {},
   "outputs": [],
   "source": [
    "def detect_with_except(x):\n",
    "    try:\n",
    "        return detect(', '.join(x))\n",
    "    except lang_detect_exception.LangDetectException:\n",
    "        return None"
   ]
  },
  {
   "cell_type": "code",
   "execution_count": 31,
   "metadata": {},
   "outputs": [],
   "source": [
    "def detect_ru_with_except(x):\n",
    "    try:\n",
    "        lang = detect_langs(', '.join(x))\n",
    "        for item in lang:\n",
    "            if item.lang == 'ru':\n",
    "                return item.prob\n",
    "                break\n",
    "        else:\n",
    "            return None\n",
    "    except lang_detect_exception.LangDetectException:\n",
    "        return None"
   ]
  },
  {
   "cell_type": "code",
   "execution_count": 32,
   "metadata": {},
   "outputs": [],
   "source": [
    "df_g['lang'] = df_g['title_list'].apply(detect_with_except)"
   ]
  },
  {
   "cell_type": "code",
   "execution_count": 33,
   "metadata": {},
   "outputs": [],
   "source": [
    "df_g['lang_ru_prob'] = df_g['title_list'].apply(detect_ru_with_except)"
   ]
  },
  {
   "cell_type": "code",
   "execution_count": 34,
   "metadata": {},
   "outputs": [
    {
     "data": {
      "text/html": [
       "<div>\n",
       "<style scoped>\n",
       "    .dataframe tbody tr th:only-of-type {\n",
       "        vertical-align: middle;\n",
       "    }\n",
       "\n",
       "    .dataframe tbody tr th {\n",
       "        vertical-align: top;\n",
       "    }\n",
       "\n",
       "    .dataframe thead th {\n",
       "        text-align: right;\n",
       "    }\n",
       "</style>\n",
       "<table border=\"1\" class=\"dataframe\">\n",
       "  <thead>\n",
       "    <tr style=\"text-align: right;\">\n",
       "      <th></th>\n",
       "      <th>cluster</th>\n",
       "      <th>lang</th>\n",
       "      <th>lang_ru_prob</th>\n",
       "    </tr>\n",
       "  </thead>\n",
       "  <tbody>\n",
       "    <tr>\n",
       "      <th>42373</th>\n",
       "      <td>42373</td>\n",
       "      <td>ru</td>\n",
       "      <td>0.999997</td>\n",
       "    </tr>\n",
       "    <tr>\n",
       "      <th>8671</th>\n",
       "      <td>8671</td>\n",
       "      <td>ru</td>\n",
       "      <td>0.999997</td>\n",
       "    </tr>\n",
       "    <tr>\n",
       "      <th>15271</th>\n",
       "      <td>15271</td>\n",
       "      <td>ru</td>\n",
       "      <td>0.999998</td>\n",
       "    </tr>\n",
       "    <tr>\n",
       "      <th>43951</th>\n",
       "      <td>43951</td>\n",
       "      <td>ru</td>\n",
       "      <td>0.999997</td>\n",
       "    </tr>\n",
       "    <tr>\n",
       "      <th>13150</th>\n",
       "      <td>13150</td>\n",
       "      <td>ru</td>\n",
       "      <td>0.999996</td>\n",
       "    </tr>\n",
       "    <tr>\n",
       "      <th>12872</th>\n",
       "      <td>12872</td>\n",
       "      <td>ru</td>\n",
       "      <td>0.999996</td>\n",
       "    </tr>\n",
       "    <tr>\n",
       "      <th>63941</th>\n",
       "      <td>63941</td>\n",
       "      <td>ru</td>\n",
       "      <td>0.999996</td>\n",
       "    </tr>\n",
       "    <tr>\n",
       "      <th>15651</th>\n",
       "      <td>15651</td>\n",
       "      <td>ru</td>\n",
       "      <td>0.999998</td>\n",
       "    </tr>\n",
       "    <tr>\n",
       "      <th>52572</th>\n",
       "      <td>52572</td>\n",
       "      <td>ru</td>\n",
       "      <td>0.999998</td>\n",
       "    </tr>\n",
       "    <tr>\n",
       "      <th>46666</th>\n",
       "      <td>46666</td>\n",
       "      <td>ru</td>\n",
       "      <td>0.999998</td>\n",
       "    </tr>\n",
       "  </tbody>\n",
       "</table>\n",
       "</div>"
      ],
      "text/plain": [
       "       cluster lang  lang_ru_prob\n",
       "42373    42373   ru      0.999997\n",
       "8671      8671   ru      0.999997\n",
       "15271    15271   ru      0.999998\n",
       "43951    43951   ru      0.999997\n",
       "13150    13150   ru      0.999996\n",
       "12872    12872   ru      0.999996\n",
       "63941    63941   ru      0.999996\n",
       "15651    15651   ru      0.999998\n",
       "52572    52572   ru      0.999998\n",
       "46666    46666   ru      0.999998"
      ]
     },
     "execution_count": 34,
     "metadata": {},
     "output_type": "execute_result"
    }
   ],
   "source": [
    "df_g[['cluster', 'lang', 'lang_ru_prob']].head(10)"
   ]
  },
  {
   "cell_type": "code",
   "execution_count": 35,
   "metadata": {},
   "outputs": [
    {
     "data": {
      "text/plain": [
       "[]"
      ]
     },
     "execution_count": 35,
     "metadata": {},
     "output_type": "execute_result"
    },
    {
     "data": {
      "image/png": "[encoded data removed]",
      "text/plain": [
       "<Figure size 1440x720 with 2 Axes>"
      ]
     },
     "metadata": {
      "needs_background": "light"
     },
     "output_type": "display_data"
    }
   ],
   "source": [
    "fig, ax = plt.subplots(ncols=2, figsize=(20, 10))\n",
    "sns.barplot(x='cnt', y='Language', data=pd.DataFrame(df_g['lang'].value_counts()).reset_index().set_axis(['Language', 'cnt'], axis='columns'), ax=ax[0]\n",
    "           ).set_title('Distribution of clusters by languages')\n",
    "sns.histplot(x='lang_ru_prob', data=df_g[df_g['lang_ru_prob']>0], kde=True, bins=5, ax=ax[1]).set_title('Distribution of russian language probability')\n",
    "plt.plot()"
   ]
  },
  {
   "cell_type": "markdown",
   "metadata": {},
   "source": [
    "### 3.3 Recomendation computation"
   ]
  },
  {
   "cell_type": "code",
   "execution_count": 36,
   "metadata": {},
   "outputs": [],
   "source": [
    "df_g = df_g.merge(df_nan_cnt, on='cluster')"
   ]
  },
  {
   "cell_type": "code",
   "execution_count": 37,
   "metadata": {},
   "outputs": [
    {
     "data": {
      "text/html": [
       "<div>\n",
       "<style scoped>\n",
       "    .dataframe tbody tr th:only-of-type {\n",
       "        vertical-align: middle;\n",
       "    }\n",
       "\n",
       "    .dataframe tbody tr th {\n",
       "        vertical-align: top;\n",
       "    }\n",
       "\n",
       "    .dataframe thead th {\n",
       "        text-align: right;\n",
       "    }\n",
       "</style>\n",
       "<table border=\"1\" class=\"dataframe\">\n",
       "  <thead>\n",
       "    <tr style=\"text-align: right;\">\n",
       "      <th></th>\n",
       "      <th>cluster</th>\n",
       "      <th>cnt</th>\n",
       "      <th>id_list</th>\n",
       "      <th>title_list</th>\n",
       "      <th>title_uniq_cnt</th>\n",
       "      <th>lang</th>\n",
       "      <th>lang_ru_prob</th>\n",
       "      <th>undwl_cnt</th>\n",
       "    </tr>\n",
       "  </thead>\n",
       "  <tbody>\n",
       "    <tr>\n",
       "      <th>0</th>\n",
       "      <td>42373</td>\n",
       "      <td>2354</td>\n",
       "      <td>[1000098325, 1021645597, 1268589214, 107556575...</td>\n",
       "      <td>[Twitter лента @StalinGulag, Smm room, The Bel...</td>\n",
       "      <td>2350</td>\n",
       "      <td>ru</td>\n",
       "      <td>0.999997</td>\n",
       "      <td>2354</td>\n",
       "    </tr>\n",
       "    <tr>\n",
       "      <th>1</th>\n",
       "      <td>8671</td>\n",
       "      <td>1261</td>\n",
       "      <td>[1000058135, 1025634770, 1237339329, 100015488...</td>\n",
       "      <td>[Republic, Сапрыкин - ст., Republic: Власть, B...</td>\n",
       "      <td>1261</td>\n",
       "      <td>ru</td>\n",
       "      <td>0.999997</td>\n",
       "      <td>1261</td>\n",
       "    </tr>\n",
       "    <tr>\n",
       "      <th>2</th>\n",
       "      <td>15271</td>\n",
       "      <td>1122</td>\n",
       "      <td>[1003613922, 1037756687, 1027423644, 110280146...</td>\n",
       "      <td>[ _IranApple_ , IT и СОРМ, Анонимный канал Д...</td>\n",
       "      <td>1121</td>\n",
       "      <td>ru</td>\n",
       "      <td>0.999998</td>\n",
       "      <td>1122</td>\n",
       "    </tr>\n",
       "    <tr>\n",
       "      <th>3</th>\n",
       "      <td>43951</td>\n",
       "      <td>1026</td>\n",
       "      <td>[1006548020, 1075088144, 1073531022, 119010589...</td>\n",
       "      <td>[Шапито, Генеральная прокуратура Российской Фе...</td>\n",
       "      <td>1026</td>\n",
       "      <td>ru</td>\n",
       "      <td>0.999997</td>\n",
       "      <td>1026</td>\n",
       "    </tr>\n",
       "    <tr>\n",
       "      <th>4</th>\n",
       "      <td>13150</td>\n",
       "      <td>944</td>\n",
       "      <td>[1408035371, 1318480909, 1071365669, 111871028...</td>\n",
       "      <td>[VTimes, Стоунер, Павел Чиков, Компромат 2.0 :...</td>\n",
       "      <td>944</td>\n",
       "      <td>ru</td>\n",
       "      <td>0.999996</td>\n",
       "      <td>943</td>\n",
       "    </tr>\n",
       "  </tbody>\n",
       "</table>\n",
       "</div>"
      ],
      "text/plain": [
       "   cluster   cnt                                            id_list  \\\n",
       "0    42373  2354  [1000098325, 1021645597, 1268589214, 107556575...   \n",
       "1     8671  1261  [1000058135, 1025634770, 1237339329, 100015488...   \n",
       "2    15271  1122  [1003613922, 1037756687, 1027423644, 110280146...   \n",
       "3    43951  1026  [1006548020, 1075088144, 1073531022, 119010589...   \n",
       "4    13150   944  [1408035371, 1318480909, 1071365669, 111871028...   \n",
       "\n",
       "                                          title_list  title_uniq_cnt lang  \\\n",
       "0  [Twitter лента @StalinGulag, Smm room, The Bel...            2350   ru   \n",
       "1  [Republic, Сапрыкин - ст., Republic: Власть, B...            1261   ru   \n",
       "2  [ _IranApple_ , IT и СОРМ, Анонимный канал Д...            1121   ru   \n",
       "3  [Шапито, Генеральная прокуратура Российской Фе...            1026   ru   \n",
       "4  [VTimes, Стоунер, Павел Чиков, Компромат 2.0 :...             944   ru   \n",
       "\n",
       "   lang_ru_prob  undwl_cnt  \n",
       "0      0.999997       2354  \n",
       "1      0.999997       1261  \n",
       "2      0.999998       1122  \n",
       "3      0.999997       1026  \n",
       "4      0.999996        943  "
      ]
     },
     "execution_count": 37,
     "metadata": {},
     "output_type": "execute_result"
    }
   ],
   "source": [
    "df_g.head()"
   ]
  },
  {
   "cell_type": "code",
   "execution_count": 38,
   "metadata": {},
   "outputs": [
    {
     "data": {
      "text/plain": [
       "31278"
      ]
     },
     "execution_count": 38,
     "metadata": {},
     "output_type": "execute_result"
    }
   ],
   "source": [
    "df_g[df_g['lang_ru_prob']>0]['undwl_cnt'].sum()"
   ]
  },
  {
   "cell_type": "markdown",
   "metadata": {},
   "source": [
    "So, we need to uploaded more than 31K channels with russian language"
   ]
  },
  {
   "cell_type": "code",
   "execution_count": 39,
   "metadata": {},
   "outputs": [],
   "source": [
    "df_rec = df[(df['title']=='') & (df['cluster'].isin(df_g[(df_g['lang']=='ru') | (df_g['lang']=='bg')]['cluster'].tolist()))]"
   ]
  },
  {
   "cell_type": "code",
   "execution_count": 40,
   "metadata": {},
   "outputs": [],
   "source": [
    "df_rec['degree_n'] = StandardScaler().fit_transform(df_rec[['degree']])\n",
    "df_rec['weight_degree_n'] = StandardScaler().fit_transform(df_rec[['weight_degree']])"
   ]
  },
  {
   "cell_type": "code",
   "execution_count": 41,
   "metadata": {},
   "outputs": [],
   "source": [
    "df_rec['w2d'] = (2 * df_rec['degree_n'] * df_rec['weight_degree_n']) / (df_rec['degree_n'] + df_rec['weight_degree_n'])"
   ]
  },
  {
   "cell_type": "code",
   "execution_count": 42,
   "metadata": {},
   "outputs": [],
   "source": [
    "df_rec.sort_values(by='w2d', ascending=False, inplace=True)"
   ]
  },
  {
   "cell_type": "code",
   "execution_count": 43,
   "metadata": {},
   "outputs": [
    {
     "data": {
      "text/html": [
       "<div>\n",
       "<style scoped>\n",
       "    .dataframe tbody tr th:only-of-type {\n",
       "        vertical-align: middle;\n",
       "    }\n",
       "\n",
       "    .dataframe tbody tr th {\n",
       "        vertical-align: top;\n",
       "    }\n",
       "\n",
       "    .dataframe thead th {\n",
       "        text-align: right;\n",
       "    }\n",
       "</style>\n",
       "<table border=\"1\" class=\"dataframe\">\n",
       "  <thead>\n",
       "    <tr style=\"text-align: right;\">\n",
       "      <th></th>\n",
       "      <th>id</th>\n",
       "      <th>w2d</th>\n",
       "    </tr>\n",
       "  </thead>\n",
       "  <tbody>\n",
       "    <tr>\n",
       "      <th>0</th>\n",
       "      <td>1059135528</td>\n",
       "      <td>12.072728</td>\n",
       "    </tr>\n",
       "    <tr>\n",
       "      <th>1</th>\n",
       "      <td>1096478352</td>\n",
       "      <td>10.829633</td>\n",
       "    </tr>\n",
       "    <tr>\n",
       "      <th>2</th>\n",
       "      <td>1272848778</td>\n",
       "      <td>8.860427</td>\n",
       "    </tr>\n",
       "    <tr>\n",
       "      <th>3</th>\n",
       "      <td>1259294143</td>\n",
       "      <td>6.554116</td>\n",
       "    </tr>\n",
       "    <tr>\n",
       "      <th>4</th>\n",
       "      <td>1141538691</td>\n",
       "      <td>6.395265</td>\n",
       "    </tr>\n",
       "    <tr>\n",
       "      <th>5</th>\n",
       "      <td>1255295153</td>\n",
       "      <td>6.279896</td>\n",
       "    </tr>\n",
       "    <tr>\n",
       "      <th>6</th>\n",
       "      <td>1308427268</td>\n",
       "      <td>5.825977</td>\n",
       "    </tr>\n",
       "    <tr>\n",
       "      <th>7</th>\n",
       "      <td>1088675969</td>\n",
       "      <td>5.130661</td>\n",
       "    </tr>\n",
       "    <tr>\n",
       "      <th>8</th>\n",
       "      <td>1293718310</td>\n",
       "      <td>4.659788</td>\n",
       "    </tr>\n",
       "    <tr>\n",
       "      <th>9</th>\n",
       "      <td>1119093282</td>\n",
       "      <td>4.587585</td>\n",
       "    </tr>\n",
       "    <tr>\n",
       "      <th>10</th>\n",
       "      <td>1070959513</td>\n",
       "      <td>4.462901</td>\n",
       "    </tr>\n",
       "    <tr>\n",
       "      <th>11</th>\n",
       "      <td>1137039690</td>\n",
       "      <td>4.276925</td>\n",
       "    </tr>\n",
       "    <tr>\n",
       "      <th>12</th>\n",
       "      <td>1429973779</td>\n",
       "      <td>3.826395</td>\n",
       "    </tr>\n",
       "    <tr>\n",
       "      <th>13</th>\n",
       "      <td>1260015718</td>\n",
       "      <td>3.696247</td>\n",
       "    </tr>\n",
       "    <tr>\n",
       "      <th>14</th>\n",
       "      <td>1401966044</td>\n",
       "      <td>3.680035</td>\n",
       "    </tr>\n",
       "    <tr>\n",
       "      <th>15</th>\n",
       "      <td>1200153575</td>\n",
       "      <td>3.451587</td>\n",
       "    </tr>\n",
       "    <tr>\n",
       "      <th>16</th>\n",
       "      <td>1477408271</td>\n",
       "      <td>3.450053</td>\n",
       "    </tr>\n",
       "    <tr>\n",
       "      <th>17</th>\n",
       "      <td>1148299394</td>\n",
       "      <td>3.414149</td>\n",
       "    </tr>\n",
       "    <tr>\n",
       "      <th>18</th>\n",
       "      <td>1157726901</td>\n",
       "      <td>3.147203</td>\n",
       "    </tr>\n",
       "    <tr>\n",
       "      <th>19</th>\n",
       "      <td>1138410933</td>\n",
       "      <td>3.061382</td>\n",
       "    </tr>\n",
       "    <tr>\n",
       "      <th>20</th>\n",
       "      <td>1250919394</td>\n",
       "      <td>3.020476</td>\n",
       "    </tr>\n",
       "    <tr>\n",
       "      <th>21</th>\n",
       "      <td>1207947150</td>\n",
       "      <td>2.879233</td>\n",
       "    </tr>\n",
       "    <tr>\n",
       "      <th>22</th>\n",
       "      <td>1471358160</td>\n",
       "      <td>2.796869</td>\n",
       "    </tr>\n",
       "    <tr>\n",
       "      <th>23</th>\n",
       "      <td>1110988505</td>\n",
       "      <td>2.707131</td>\n",
       "    </tr>\n",
       "    <tr>\n",
       "      <th>24</th>\n",
       "      <td>1480029807</td>\n",
       "      <td>2.642051</td>\n",
       "    </tr>\n",
       "    <tr>\n",
       "      <th>25</th>\n",
       "      <td>1104520290</td>\n",
       "      <td>2.492013</td>\n",
       "    </tr>\n",
       "    <tr>\n",
       "      <th>26</th>\n",
       "      <td>1141926352</td>\n",
       "      <td>2.340832</td>\n",
       "    </tr>\n",
       "    <tr>\n",
       "      <th>27</th>\n",
       "      <td>1237513492</td>\n",
       "      <td>2.288396</td>\n",
       "    </tr>\n",
       "    <tr>\n",
       "      <th>28</th>\n",
       "      <td>1218276744</td>\n",
       "      <td>2.158434</td>\n",
       "    </tr>\n",
       "    <tr>\n",
       "      <th>29</th>\n",
       "      <td>1254279404</td>\n",
       "      <td>2.056039</td>\n",
       "    </tr>\n",
       "    <tr>\n",
       "      <th>30</th>\n",
       "      <td>1384117627</td>\n",
       "      <td>1.978410</td>\n",
       "    </tr>\n",
       "    <tr>\n",
       "      <th>31</th>\n",
       "      <td>1285193362</td>\n",
       "      <td>1.929706</td>\n",
       "    </tr>\n",
       "    <tr>\n",
       "      <th>32</th>\n",
       "      <td>1215324918</td>\n",
       "      <td>1.916533</td>\n",
       "    </tr>\n",
       "    <tr>\n",
       "      <th>33</th>\n",
       "      <td>1308633259</td>\n",
       "      <td>1.787805</td>\n",
       "    </tr>\n",
       "    <tr>\n",
       "      <th>34</th>\n",
       "      <td>1035599540</td>\n",
       "      <td>1.721225</td>\n",
       "    </tr>\n",
       "    <tr>\n",
       "      <th>35</th>\n",
       "      <td>1057981350</td>\n",
       "      <td>1.571595</td>\n",
       "    </tr>\n",
       "    <tr>\n",
       "      <th>36</th>\n",
       "      <td>1261300261</td>\n",
       "      <td>1.415769</td>\n",
       "    </tr>\n",
       "    <tr>\n",
       "      <th>37</th>\n",
       "      <td>1003020822</td>\n",
       "      <td>1.385084</td>\n",
       "    </tr>\n",
       "    <tr>\n",
       "      <th>38</th>\n",
       "      <td>1490322678</td>\n",
       "      <td>1.364498</td>\n",
       "    </tr>\n",
       "    <tr>\n",
       "      <th>39</th>\n",
       "      <td>1487210715</td>\n",
       "      <td>1.316534</td>\n",
       "    </tr>\n",
       "    <tr>\n",
       "      <th>40</th>\n",
       "      <td>1086377292</td>\n",
       "      <td>1.294862</td>\n",
       "    </tr>\n",
       "    <tr>\n",
       "      <th>41</th>\n",
       "      <td>1407199811</td>\n",
       "      <td>1.279070</td>\n",
       "    </tr>\n",
       "    <tr>\n",
       "      <th>42</th>\n",
       "      <td>1083335741</td>\n",
       "      <td>1.230511</td>\n",
       "    </tr>\n",
       "    <tr>\n",
       "      <th>43</th>\n",
       "      <td>1168594622</td>\n",
       "      <td>1.121312</td>\n",
       "    </tr>\n",
       "    <tr>\n",
       "      <th>44</th>\n",
       "      <td>1131726424</td>\n",
       "      <td>1.119712</td>\n",
       "    </tr>\n",
       "    <tr>\n",
       "      <th>45</th>\n",
       "      <td>1442758837</td>\n",
       "      <td>1.085723</td>\n",
       "    </tr>\n",
       "    <tr>\n",
       "      <th>46</th>\n",
       "      <td>1177724110</td>\n",
       "      <td>1.084326</td>\n",
       "    </tr>\n",
       "    <tr>\n",
       "      <th>47</th>\n",
       "      <td>1080444464</td>\n",
       "      <td>1.063908</td>\n",
       "    </tr>\n",
       "    <tr>\n",
       "      <th>48</th>\n",
       "      <td>1108621091</td>\n",
       "      <td>1.044401</td>\n",
       "    </tr>\n",
       "    <tr>\n",
       "      <th>49</th>\n",
       "      <td>1458669222</td>\n",
       "      <td>0.977507</td>\n",
       "    </tr>\n",
       "  </tbody>\n",
       "</table>\n",
       "</div>"
      ],
      "text/plain": [
       "            id        w2d\n",
       "0   1059135528  12.072728\n",
       "1   1096478352  10.829633\n",
       "2   1272848778   8.860427\n",
       "3   1259294143   6.554116\n",
       "4   1141538691   6.395265\n",
       "5   1255295153   6.279896\n",
       "6   1308427268   5.825977\n",
       "7   1088675969   5.130661\n",
       "8   1293718310   4.659788\n",
       "9   1119093282   4.587585\n",
       "10  1070959513   4.462901\n",
       "11  1137039690   4.276925\n",
       "12  1429973779   3.826395\n",
       "13  1260015718   3.696247\n",
       "14  1401966044   3.680035\n",
       "15  1200153575   3.451587\n",
       "16  1477408271   3.450053\n",
       "17  1148299394   3.414149\n",
       "18  1157726901   3.147203\n",
       "19  1138410933   3.061382\n",
       "20  1250919394   3.020476\n",
       "21  1207947150   2.879233\n",
       "22  1471358160   2.796869\n",
       "23  1110988505   2.707131\n",
       "24  1480029807   2.642051\n",
       "25  1104520290   2.492013\n",
       "26  1141926352   2.340832\n",
       "27  1237513492   2.288396\n",
       "28  1218276744   2.158434\n",
       "29  1254279404   2.056039\n",
       "30  1384117627   1.978410\n",
       "31  1285193362   1.929706\n",
       "32  1215324918   1.916533\n",
       "33  1308633259   1.787805\n",
       "34  1035599540   1.721225\n",
       "35  1057981350   1.571595\n",
       "36  1261300261   1.415769\n",
       "37  1003020822   1.385084\n",
       "38  1490322678   1.364498\n",
       "39  1487210715   1.316534\n",
       "40  1086377292   1.294862\n",
       "41  1407199811   1.279070\n",
       "42  1083335741   1.230511\n",
       "43  1168594622   1.121312\n",
       "44  1131726424   1.119712\n",
       "45  1442758837   1.085723\n",
       "46  1177724110   1.084326\n",
       "47  1080444464   1.063908\n",
       "48  1108621091   1.044401\n",
       "49  1458669222   0.977507"
      ]
     },
     "execution_count": 43,
     "metadata": {},
     "output_type": "execute_result"
    }
   ],
   "source": [
    "df_rec[['id', 'w2d']].reset_index(drop=True).head(50)"
   ]
  }
 ],
 "metadata": {
  "kernelspec": {
   "display_name": "Python 3",
   "language": "python",
   "name": "python3"
  },
  "language_info": {
   "codemirror_mode": {
    "name": "ipython",
    "version": 3
   },
   "file_extension": ".py",
   "mimetype": "text/x-python",
   "name": "python",
   "nbconvert_exporter": "python",
   "pygments_lexer": "ipython3",
   "version": "3.8.5"
  }
 },
 "nbformat": 4,
 "nbformat_minor": 4
}
