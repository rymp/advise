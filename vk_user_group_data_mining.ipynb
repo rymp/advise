{
 "cells": [
  {
   "cell_type": "markdown",
   "metadata": {},
   "source": [
    "# **Get brief inforation from VK Api**"
   ]
  },
  {
   "cell_type": "code",
   "execution_count": 1,
   "metadata": {},
   "outputs": [],
   "source": [
    "from datetime import datetime\n",
    "import requests\n",
    "from time import sleep\n",
    "import getpass\n",
    "import pandas as pd"
   ]
  },
  {
   "cell_type": "code",
   "execution_count": 2,
   "metadata": {},
   "outputs": [
    {
     "name": "stdin",
     "output_type": "stream",
     "text": [
      " ·····················································································\n"
     ]
    }
   ],
   "source": [
    "token = getpass.getpass()"
   ]
  },
  {
   "cell_type": "markdown",
   "metadata": {},
   "source": [
    "# Functions"
   ]
  },
  {
   "cell_type": "code",
   "execution_count": 3,
   "metadata": {},
   "outputs": [],
   "source": [
    "def vk_get(url):\n",
    "    res = requests.get(url).json()\n",
    "    sleep(.34)\n",
    "    return res"
   ]
  },
  {
   "cell_type": "code",
   "execution_count": 4,
   "metadata": {},
   "outputs": [],
   "source": [
    "def year_post_count(id):\n",
    "    offset = 0\n",
    "    count = 0\n",
    "    while True:\n",
    "        url = f'https://api.vk.com/method/wall.get?owner_id={id}&offset={offset}&count=100&v=5.131&access_token={token}'\n",
    "        res = vk_get(url)\n",
    "        if res['response']['items'][-1]['date'] > datetime_filter:\n",
    "            count += len(res['response']['items'])\n",
    "        else:\n",
    "            count += len([i for i in res['response']['items'] if i['date'] > datetime_filter])\n",
    "            break\n",
    "        offset += 100\n",
    "    \n",
    "    return count\n"
   ]
  },
  {
   "cell_type": "code",
   "execution_count": 5,
   "metadata": {},
   "outputs": [],
   "source": [
    "def subscriber_count(id):\n",
    "    url = f'https://api.vk.com/method/groups.getMembers?group_id={id}&v=5.131&access_token={token}'\n",
    "    res = vk_get(url)\n",
    "    if 'response' in res:\n",
    "        res = res['response']['count']\n",
    "    else:\n",
    "        res = 'Access denied'\n",
    "    return res"
   ]
  },
  {
   "cell_type": "code",
   "execution_count": 6,
   "metadata": {},
   "outputs": [],
   "source": [
    "def friend_count(id):\n",
    "    url = f'https://api.vk.com/method/friends.get?user_id={id}&v=5.131&access_token={token}'\n",
    "    res = vk_get(url)\n",
    "    if 'response' in res:\n",
    "        res = res['response']['count']\n",
    "    else:\n",
    "        res = 'Access denied'\n",
    "    return res"
   ]
  },
  {
   "cell_type": "markdown",
   "metadata": {},
   "source": [
    "# Data"
   ]
  },
  {
   "cell_type": "code",
   "execution_count": 7,
   "metadata": {},
   "outputs": [],
   "source": [
    "datetime_filter = datetime(2022, 1, 1, 0, 0, 0).timestamp()"
   ]
  },
  {
   "cell_type": "markdown",
   "metadata": {},
   "source": [
    "## Groups"
   ]
  },
  {
   "cell_type": "code",
   "execution_count": 8,
   "metadata": {},
   "outputs": [],
   "source": [
    "data = [131743773,\n",
    "        'kuban_gov',\n",
    "        'krdru',\n",
    "        'krasnoyarskkr',\n",
    "        'krasnoyarskrf',\n",
    "        'gov.tuva', \n",
    "        'mkyzyl_100',\n",
    "        'udmurt_gov',\n",
    "        'izh_gov',\n",
    "        'grozmer',\n",
    "        'tverreg'\n",
    "        'tverrussia69'\n",
    "       ]"
   ]
  },
  {
   "cell_type": "code",
   "execution_count": 9,
   "metadata": {},
   "outputs": [],
   "source": [
    "url = 'https://api.vk.com/method/groups.getById?group_ids={ids}&v=5.131&access_token={token}'.format(\n",
    "    ids=','.join(str(x) for x in data), \n",
    "    token=token)"
   ]
  },
  {
   "cell_type": "code",
   "execution_count": 10,
   "metadata": {
    "tags": []
   },
   "outputs": [],
   "source": [
    "res = vk_get(url)\n",
    "df_g = pd.DataFrame([(i['id'], i['name'], i['screen_name']) for i in res['response']], columns=['id', 'name', 'screen_name'])"
   ]
  },
  {
   "cell_type": "code",
   "execution_count": 11,
   "metadata": {},
   "outputs": [],
   "source": [
    "df_g['subscribers'] = df_g['id'].apply(subscriber_count)\n",
    "df_g['year_posts'] = df_g['id'].apply(lambda x: year_post_count(x*-1))\n",
    "df_g['type'] = 'group'"
   ]
  },
  {
   "cell_type": "markdown",
   "metadata": {},
   "source": [
    "## Users"
   ]
  },
  {
   "cell_type": "code",
   "execution_count": 12,
   "metadata": {},
   "outputs": [],
   "source": [
    "data = [\n",
    "    'kondratyevvi',\n",
    "    'uss_av',\n",
    "    'vladislavkhovalyg',\n",
    "    238214072,\n",
    "    'a.brechalov',\n",
    "    'olegbekmemetev',\n",
    "    'ramzan'\n",
    "]"
   ]
  },
  {
   "cell_type": "code",
   "execution_count": 13,
   "metadata": {},
   "outputs": [],
   "source": [
    "url = 'https://api.vk.com/method/users.get?user_ids={ids}&fields=domain&v=5.131&access_token={token}'.format(\n",
    "    ids=','.join(str(x) for x in data), \n",
    "    token=token)"
   ]
  },
  {
   "cell_type": "code",
   "execution_count": 14,
   "metadata": {},
   "outputs": [],
   "source": [
    "res = vk_get(url)\n",
    "df_u = pd.DataFrame([(i['id'], f\"{i['first_name']} {i['last_name']}\", i['domain']) for i in res['response']], columns=['id', 'name', 'screen_name'])"
   ]
  },
  {
   "cell_type": "code",
   "execution_count": 15,
   "metadata": {},
   "outputs": [],
   "source": [
    "df_u['subscribers'] = df_u['id'].apply(friend_count)\n",
    "df_u['year_posts'] = df_u['id'].apply(year_post_count)\n",
    "df_u['type'] = 'user'"
   ]
  },
  {
   "cell_type": "markdown",
   "metadata": {},
   "source": [
    "-----"
   ]
  },
  {
   "cell_type": "code",
   "execution_count": 16,
   "metadata": {},
   "outputs": [],
   "source": [
    "df = pd.concat([df_g, df_u], axis=0)"
   ]
  },
  {
   "cell_type": "code",
   "execution_count": 17,
   "metadata": {},
   "outputs": [
    {
     "data": {
      "text/html": [
       "<div>\n",
       "<style scoped>\n",
       "    .dataframe tbody tr th:only-of-type {\n",
       "        vertical-align: middle;\n",
       "    }\n",
       "\n",
       "    .dataframe tbody tr th {\n",
       "        vertical-align: top;\n",
       "    }\n",
       "\n",
       "    .dataframe thead th {\n",
       "        text-align: right;\n",
       "    }\n",
       "</style>\n",
       "<table border=\"1\" class=\"dataframe\">\n",
       "  <thead>\n",
       "    <tr style=\"text-align: right;\">\n",
       "      <th></th>\n",
       "      <th>id</th>\n",
       "      <th>name</th>\n",
       "      <th>screen_name</th>\n",
       "      <th>subscribers</th>\n",
       "      <th>year_posts</th>\n",
       "      <th>type</th>\n",
       "    </tr>\n",
       "  </thead>\n",
       "  <tbody>\n",
       "    <tr>\n",
       "      <th>0</th>\n",
       "      <td>131743773</td>\n",
       "      <td>Администрация Петропавловска-Камчатского</td>\n",
       "      <td>club131743773</td>\n",
       "      <td>98</td>\n",
       "      <td>368</td>\n",
       "      <td>group</td>\n",
       "    </tr>\n",
       "    <tr>\n",
       "      <th>1</th>\n",
       "      <td>192173260</td>\n",
       "      <td>Краснодарский край</td>\n",
       "      <td>kuban_gov</td>\n",
       "      <td>99321</td>\n",
       "      <td>141</td>\n",
       "      <td>group</td>\n",
       "    </tr>\n",
       "    <tr>\n",
       "      <th>2</th>\n",
       "      <td>28402455</td>\n",
       "      <td>Город Краснодар</td>\n",
       "      <td>krdru</td>\n",
       "      <td>Access denied</td>\n",
       "      <td>239</td>\n",
       "      <td>group</td>\n",
       "    </tr>\n",
       "    <tr>\n",
       "      <th>3</th>\n",
       "      <td>196936695</td>\n",
       "      <td>Правительство Красноярского края</td>\n",
       "      <td>krasnoyarskkr</td>\n",
       "      <td>50715</td>\n",
       "      <td>184</td>\n",
       "      <td>group</td>\n",
       "    </tr>\n",
       "    <tr>\n",
       "      <th>4</th>\n",
       "      <td>121269719</td>\n",
       "      <td>Город Красноярск</td>\n",
       "      <td>krasnoyarskrf</td>\n",
       "      <td>38585</td>\n",
       "      <td>236</td>\n",
       "      <td>group</td>\n",
       "    </tr>\n",
       "    <tr>\n",
       "      <th>5</th>\n",
       "      <td>34709566</td>\n",
       "      <td>Правительство Республики Тыва</td>\n",
       "      <td>gov.tuva</td>\n",
       "      <td>65215</td>\n",
       "      <td>162</td>\n",
       "      <td>group</td>\n",
       "    </tr>\n",
       "    <tr>\n",
       "      <th>6</th>\n",
       "      <td>77016543</td>\n",
       "      <td>Мэрия города Кызыла</td>\n",
       "      <td>mkyzyl_100</td>\n",
       "      <td>51265</td>\n",
       "      <td>130</td>\n",
       "      <td>group</td>\n",
       "    </tr>\n",
       "    <tr>\n",
       "      <th>7</th>\n",
       "      <td>192431671</td>\n",
       "      <td>Удмуртская Республика</td>\n",
       "      <td>udmurt_gov</td>\n",
       "      <td>146155</td>\n",
       "      <td>125</td>\n",
       "      <td>group</td>\n",
       "    </tr>\n",
       "    <tr>\n",
       "      <th>8</th>\n",
       "      <td>69700574</td>\n",
       "      <td>Администрация Ижевска</td>\n",
       "      <td>izh_gov</td>\n",
       "      <td>10911</td>\n",
       "      <td>272</td>\n",
       "      <td>group</td>\n",
       "    </tr>\n",
       "    <tr>\n",
       "      <th>9</th>\n",
       "      <td>119042965</td>\n",
       "      <td>Мэрия г.Грозный</td>\n",
       "      <td>grozmer</td>\n",
       "      <td>713</td>\n",
       "      <td>50</td>\n",
       "      <td>group</td>\n",
       "    </tr>\n",
       "    <tr>\n",
       "      <th>0</th>\n",
       "      <td>312621844</td>\n",
       "      <td>Вениамин Кондратьев</td>\n",
       "      <td>kondratyevvi</td>\n",
       "      <td>0</td>\n",
       "      <td>6</td>\n",
       "      <td>user</td>\n",
       "    </tr>\n",
       "    <tr>\n",
       "      <th>1</th>\n",
       "      <td>643640731</td>\n",
       "      <td>Александр Усс</td>\n",
       "      <td>uss_av</td>\n",
       "      <td>0</td>\n",
       "      <td>32</td>\n",
       "      <td>user</td>\n",
       "    </tr>\n",
       "    <tr>\n",
       "      <th>2</th>\n",
       "      <td>360104045</td>\n",
       "      <td>Владислав Ховалыг</td>\n",
       "      <td>vladislavkhovalyg</td>\n",
       "      <td>9998</td>\n",
       "      <td>36</td>\n",
       "      <td>user</td>\n",
       "    </tr>\n",
       "    <tr>\n",
       "      <th>3</th>\n",
       "      <td>238214072</td>\n",
       "      <td>Карим Сагаан-Оол</td>\n",
       "      <td>id238214072</td>\n",
       "      <td>6373</td>\n",
       "      <td>0</td>\n",
       "      <td>user</td>\n",
       "    </tr>\n",
       "    <tr>\n",
       "      <th>4</th>\n",
       "      <td>395546937</td>\n",
       "      <td>Александр Бречалов</td>\n",
       "      <td>a.brechalov</td>\n",
       "      <td>50</td>\n",
       "      <td>99</td>\n",
       "      <td>user</td>\n",
       "    </tr>\n",
       "    <tr>\n",
       "      <th>5</th>\n",
       "      <td>437092399</td>\n",
       "      <td>Олег Бекмеметьев</td>\n",
       "      <td>olegbekmemetev</td>\n",
       "      <td>656</td>\n",
       "      <td>65</td>\n",
       "      <td>user</td>\n",
       "    </tr>\n",
       "    <tr>\n",
       "      <th>6</th>\n",
       "      <td>279938622</td>\n",
       "      <td>Рамзан Кадыров</td>\n",
       "      <td>ramzan</td>\n",
       "      <td>20</td>\n",
       "      <td>50</td>\n",
       "      <td>user</td>\n",
       "    </tr>\n",
       "  </tbody>\n",
       "</table>\n",
       "</div>"
      ],
      "text/plain": [
       "          id                                      name        screen_name  \\\n",
       "0  131743773  Администрация Петропавловска-Камчатского      club131743773   \n",
       "1  192173260                        Краснодарский край          kuban_gov   \n",
       "2   28402455                           Город Краснодар              krdru   \n",
       "3  196936695          Правительство Красноярского края      krasnoyarskkr   \n",
       "4  121269719                          Город Красноярск      krasnoyarskrf   \n",
       "5   34709566             Правительство Республики Тыва           gov.tuva   \n",
       "6   77016543                       Мэрия города Кызыла         mkyzyl_100   \n",
       "7  192431671                     Удмуртская Республика         udmurt_gov   \n",
       "8   69700574                     Администрация Ижевска            izh_gov   \n",
       "9  119042965                           Мэрия г.Грозный            grozmer   \n",
       "0  312621844                       Вениамин Кондратьев       kondratyevvi   \n",
       "1  643640731                             Александр Усс             uss_av   \n",
       "2  360104045                         Владислав Ховалыг  vladislavkhovalyg   \n",
       "3  238214072                          Карим Сагаан-Оол        id238214072   \n",
       "4  395546937                        Александр Бречалов        a.brechalov   \n",
       "5  437092399                          Олег Бекмеметьев     olegbekmemetev   \n",
       "6  279938622                            Рамзан Кадыров             ramzan   \n",
       "\n",
       "     subscribers  year_posts   type  \n",
       "0             98         368  group  \n",
       "1          99321         141  group  \n",
       "2  Access denied         239  group  \n",
       "3          50715         184  group  \n",
       "4          38585         236  group  \n",
       "5          65215         162  group  \n",
       "6          51265         130  group  \n",
       "7         146155         125  group  \n",
       "8          10911         272  group  \n",
       "9            713          50  group  \n",
       "0              0           6   user  \n",
       "1              0          32   user  \n",
       "2           9998          36   user  \n",
       "3           6373           0   user  \n",
       "4             50          99   user  \n",
       "5            656          65   user  \n",
       "6             20          50   user  "
      ]
     },
     "execution_count": 17,
     "metadata": {},
     "output_type": "execute_result"
    }
   ],
   "source": [
    "df"
   ]
  },
  {
   "cell_type": "code",
   "execution_count": null,
   "metadata": {},
   "outputs": [],
   "source": []
  }
 ],
 "metadata": {
  "kernelspec": {
   "display_name": "Python 3",
   "language": "python",
   "name": "python3"
  },
  "language_info": {
   "codemirror_mode": {
    "name": "ipython",
    "version": 3
   },
   "file_extension": ".py",
   "mimetype": "text/x-python",
   "name": "python",
   "nbconvert_exporter": "python",
   "pygments_lexer": "ipython3",
   "version": "3.8.10"
  }
 },
 "nbformat": 4,
 "nbformat_minor": 4
}
